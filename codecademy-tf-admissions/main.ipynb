{
 "cells": [
  {
   "cell_type": "markdown",
   "metadata": {},
   "source": [
    "## Import Packages"
   ]
  },
  {
   "cell_type": "code",
   "execution_count": 5,
   "metadata": {},
   "outputs": [],
   "source": [
    "from functools import partial\n",
    "\n",
    "import pandas as pd\n",
    "import numpy as np\n",
    "import matplotlib.pyplot as plt\n",
    "\n",
    "import tensorflow as tf\n",
    "from tensorflow\timport keras\n",
    "\n",
    "from sklearn.model_selection import train_test_split\n",
    "from sklearn.preprocessing import StandardScaler\n",
    "from sklearn.pipeline import Pipeline\n",
    "from sklearn.preprocessing import Normalizer\n",
    "from sklearn.metrics import r2_score\n",
    "\n",
    "from scikeras.wrappers import KerasClassifier, KerasRegressor"
   ]
  },
  {
   "cell_type": "markdown",
   "metadata": {},
   "source": [
    "## Constants"
   ]
  },
  {
   "cell_type": "code",
   "execution_count": 6,
   "metadata": {},
   "outputs": [],
   "source": [
    "ADMISSIONS_CSV_PATH:str=\"regression-challenge-starter/admissions_data.csv\"\n",
    "RANDOM_STATE:int = 66\n",
    "TARGET_COL:str = \"Chance of Admit \"\n"
   ]
  },
  {
   "cell_type": "markdown",
   "metadata": {},
   "source": [
    "Load data"
   ]
  },
  {
   "cell_type": "code",
   "execution_count": 7,
   "metadata": {},
   "outputs": [],
   "source": [
    "admissions_df = pd.read_csv(ADMISSIONS_CSV_PATH)"
   ]
  },
  {
   "cell_type": "markdown",
   "metadata": {},
   "source": [
    "Split into features/labels"
   ]
  },
  {
   "cell_type": "code",
   "execution_count": 8,
   "metadata": {},
   "outputs": [
    {
     "data": {
      "text/plain": [
       "Index(['Serial No.', 'GRE Score', 'TOEFL Score', 'University Rating', 'SOP',\n",
       "       'LOR ', 'CGPA', 'Research', 'Chance of Admit '],\n",
       "      dtype='object')"
      ]
     },
     "execution_count": 8,
     "metadata": {},
     "output_type": "execute_result"
    }
   ],
   "source": [
    "admissions_df.columns"
   ]
  },
  {
   "cell_type": "code",
   "execution_count": 9,
   "metadata": {},
   "outputs": [],
   "source": [
    "features_df = admissions_df.copy()\n",
    "labels = features_df.pop(TARGET_COL)"
   ]
  },
  {
   "cell_type": "markdown",
   "metadata": {},
   "source": [
    "Split into train/test"
   ]
  },
  {
   "cell_type": "code",
   "execution_count": 10,
   "metadata": {},
   "outputs": [],
   "source": [
    "# Split the data into training and test sets\n",
    "train_features, test_features, train_labels, test_labels = train_test_split(features_df, labels, test_size=0.2, random_state=RANDOM_STATE)"
   ]
  },
  {
   "cell_type": "markdown",
   "metadata": {},
   "source": [
    "Create model function"
   ]
  },
  {
   "cell_type": "code",
   "execution_count": 11,
   "metadata": {},
   "outputs": [],
   "source": [
    "def build_nn_model(n_features:int):\n",
    "    model = keras.Sequential()\n",
    "    model.add(keras.layers.Input(n_features))\n",
    "    model.add(keras.layers.Dense(16, activation=\"relu\"))\n",
    "    model.add(keras.layers.Dense(1))\n",
    "    opt = keras.optimizers.Adam(learning_rate = 0.01)\n",
    "    model.compile(loss='mse',  metrics=['mae','mse'], optimizer=opt)\n",
    "    return model\n",
    "    "
   ]
  },
  {
   "cell_type": "code",
   "execution_count": 33,
   "metadata": {},
   "outputs": [],
   "source": [
    "model_func = partial(build_nn_model, n_features=train_features.shape[1])\n",
    "nn_model = KerasRegressor(build_fn=model_func, epochs=100, batch_size=32, verbose=2)"
   ]
  },
  {
   "cell_type": "code",
   "execution_count": 34,
   "metadata": {},
   "outputs": [
    {
     "name": "stdout",
     "output_type": "stream",
     "text": [
      "Epoch 1/100\n"
     ]
    },
    {
     "name": "stderr",
     "output_type": "stream",
     "text": [
      "/home/codespace/.python/current/lib/python3.10/site-packages/scikeras/wrappers.py:301: UserWarning: ``build_fn`` will be renamed to ``model`` in a future release, at which point use of ``build_fn`` will raise an Error instead.\n",
      "  warnings.warn(\n"
     ]
    },
    {
     "name": "stdout",
     "output_type": "stream",
     "text": [
      "13/13 - 0s - loss: 0.3444 - mae: 0.4640 - mse: 0.3444 - 392ms/epoch - 30ms/step\n",
      "Epoch 2/100\n",
      "13/13 - 0s - loss: 0.1000 - mae: 0.2457 - mse: 0.1000 - 14ms/epoch - 1ms/step\n",
      "Epoch 3/100\n",
      "13/13 - 0s - loss: 0.0445 - mae: 0.1709 - mse: 0.0445 - 14ms/epoch - 1ms/step\n",
      "Epoch 4/100\n",
      "13/13 - 0s - loss: 0.0278 - mae: 0.1318 - mse: 0.0278 - 15ms/epoch - 1ms/step\n",
      "Epoch 5/100\n",
      "13/13 - 0s - loss: 0.0198 - mae: 0.1098 - mse: 0.0198 - 14ms/epoch - 1ms/step\n",
      "Epoch 6/100\n",
      "13/13 - 0s - loss: 0.0173 - mae: 0.1010 - mse: 0.0173 - 14ms/epoch - 1ms/step\n",
      "Epoch 7/100\n",
      "13/13 - 0s - loss: 0.0130 - mae: 0.0894 - mse: 0.0130 - 22ms/epoch - 2ms/step\n",
      "Epoch 8/100\n",
      "13/13 - 0s - loss: 0.0107 - mae: 0.0803 - mse: 0.0107 - 15ms/epoch - 1ms/step\n",
      "Epoch 9/100\n",
      "13/13 - 0s - loss: 0.0092 - mae: 0.0746 - mse: 0.0092 - 15ms/epoch - 1ms/step\n",
      "Epoch 10/100\n",
      "13/13 - 0s - loss: 0.0088 - mae: 0.0732 - mse: 0.0088 - 14ms/epoch - 1ms/step\n",
      "Epoch 11/100\n",
      "13/13 - 0s - loss: 0.0076 - mae: 0.0671 - mse: 0.0076 - 15ms/epoch - 1ms/step\n",
      "Epoch 12/100\n",
      "13/13 - 0s - loss: 0.0073 - mae: 0.0674 - mse: 0.0073 - 14ms/epoch - 1ms/step\n",
      "Epoch 13/100\n",
      "13/13 - 0s - loss: 0.0064 - mae: 0.0629 - mse: 0.0064 - 15ms/epoch - 1ms/step\n",
      "Epoch 14/100\n",
      "13/13 - 0s - loss: 0.0057 - mae: 0.0588 - mse: 0.0057 - 15ms/epoch - 1ms/step\n",
      "Epoch 15/100\n",
      "13/13 - 0s - loss: 0.0054 - mae: 0.0577 - mse: 0.0054 - 15ms/epoch - 1ms/step\n",
      "Epoch 16/100\n",
      "13/13 - 0s - loss: 0.0051 - mae: 0.0554 - mse: 0.0051 - 15ms/epoch - 1ms/step\n",
      "Epoch 17/100\n",
      "13/13 - 0s - loss: 0.0051 - mae: 0.0555 - mse: 0.0051 - 15ms/epoch - 1ms/step\n",
      "Epoch 18/100\n",
      "13/13 - 0s - loss: 0.0049 - mae: 0.0542 - mse: 0.0049 - 15ms/epoch - 1ms/step\n",
      "Epoch 19/100\n",
      "13/13 - 0s - loss: 0.0046 - mae: 0.0532 - mse: 0.0046 - 14ms/epoch - 1ms/step\n",
      "Epoch 20/100\n",
      "13/13 - 0s - loss: 0.0045 - mae: 0.0523 - mse: 0.0045 - 14ms/epoch - 1ms/step\n",
      "Epoch 21/100\n",
      "13/13 - 0s - loss: 0.0044 - mae: 0.0517 - mse: 0.0044 - 16ms/epoch - 1ms/step\n",
      "Epoch 22/100\n",
      "13/13 - 0s - loss: 0.0042 - mae: 0.0501 - mse: 0.0042 - 14ms/epoch - 1ms/step\n",
      "Epoch 23/100\n",
      "13/13 - 0s - loss: 0.0040 - mae: 0.0491 - mse: 0.0040 - 14ms/epoch - 1ms/step\n",
      "Epoch 24/100\n",
      "13/13 - 0s - loss: 0.0038 - mae: 0.0481 - mse: 0.0038 - 15ms/epoch - 1ms/step\n",
      "Epoch 25/100\n",
      "13/13 - 0s - loss: 0.0039 - mae: 0.0486 - mse: 0.0039 - 16ms/epoch - 1ms/step\n",
      "Epoch 26/100\n",
      "13/13 - 0s - loss: 0.0040 - mae: 0.0494 - mse: 0.0040 - 15ms/epoch - 1ms/step\n",
      "Epoch 27/100\n",
      "13/13 - 0s - loss: 0.0038 - mae: 0.0477 - mse: 0.0038 - 14ms/epoch - 1ms/step\n",
      "Epoch 28/100\n",
      "13/13 - 0s - loss: 0.0036 - mae: 0.0462 - mse: 0.0036 - 14ms/epoch - 1ms/step\n",
      "Epoch 29/100\n",
      "13/13 - 0s - loss: 0.0036 - mae: 0.0463 - mse: 0.0036 - 15ms/epoch - 1ms/step\n",
      "Epoch 30/100\n",
      "13/13 - 0s - loss: 0.0039 - mae: 0.0483 - mse: 0.0039 - 15ms/epoch - 1ms/step\n",
      "Epoch 31/100\n",
      "13/13 - 0s - loss: 0.0040 - mae: 0.0487 - mse: 0.0040 - 14ms/epoch - 1ms/step\n",
      "Epoch 32/100\n",
      "13/13 - 0s - loss: 0.0038 - mae: 0.0472 - mse: 0.0038 - 15ms/epoch - 1ms/step\n",
      "Epoch 33/100\n",
      "13/13 - 0s - loss: 0.0036 - mae: 0.0465 - mse: 0.0036 - 15ms/epoch - 1ms/step\n",
      "Epoch 34/100\n",
      "13/13 - 0s - loss: 0.0033 - mae: 0.0439 - mse: 0.0033 - 14ms/epoch - 1ms/step\n",
      "Epoch 35/100\n",
      "13/13 - 0s - loss: 0.0033 - mae: 0.0439 - mse: 0.0033 - 20ms/epoch - 2ms/step\n",
      "Epoch 36/100\n",
      "13/13 - 0s - loss: 0.0032 - mae: 0.0440 - mse: 0.0032 - 16ms/epoch - 1ms/step\n",
      "Epoch 37/100\n",
      "13/13 - 0s - loss: 0.0032 - mae: 0.0435 - mse: 0.0032 - 15ms/epoch - 1ms/step\n",
      "Epoch 38/100\n",
      "13/13 - 0s - loss: 0.0033 - mae: 0.0441 - mse: 0.0033 - 16ms/epoch - 1ms/step\n",
      "Epoch 39/100\n",
      "13/13 - 0s - loss: 0.0032 - mae: 0.0441 - mse: 0.0032 - 15ms/epoch - 1ms/step\n",
      "Epoch 40/100\n",
      "13/13 - 0s - loss: 0.0031 - mae: 0.0425 - mse: 0.0031 - 15ms/epoch - 1ms/step\n",
      "Epoch 41/100\n",
      "13/13 - 0s - loss: 0.0030 - mae: 0.0419 - mse: 0.0030 - 15ms/epoch - 1ms/step\n",
      "Epoch 42/100\n",
      "13/13 - 0s - loss: 0.0031 - mae: 0.0433 - mse: 0.0031 - 15ms/epoch - 1ms/step\n",
      "Epoch 43/100\n",
      "13/13 - 0s - loss: 0.0029 - mae: 0.0418 - mse: 0.0029 - 16ms/epoch - 1ms/step\n",
      "Epoch 44/100\n",
      "13/13 - 0s - loss: 0.0030 - mae: 0.0420 - mse: 0.0030 - 17ms/epoch - 1ms/step\n",
      "Epoch 45/100\n",
      "13/13 - 0s - loss: 0.0030 - mae: 0.0421 - mse: 0.0030 - 16ms/epoch - 1ms/step\n",
      "Epoch 46/100\n",
      "13/13 - 0s - loss: 0.0028 - mae: 0.0407 - mse: 0.0028 - 16ms/epoch - 1ms/step\n",
      "Epoch 47/100\n",
      "13/13 - 0s - loss: 0.0030 - mae: 0.0424 - mse: 0.0030 - 15ms/epoch - 1ms/step\n",
      "Epoch 48/100\n",
      "13/13 - 0s - loss: 0.0028 - mae: 0.0405 - mse: 0.0028 - 16ms/epoch - 1ms/step\n",
      "Epoch 49/100\n",
      "13/13 - 0s - loss: 0.0030 - mae: 0.0414 - mse: 0.0030 - 15ms/epoch - 1ms/step\n",
      "Epoch 50/100\n",
      "13/13 - 0s - loss: 0.0033 - mae: 0.0434 - mse: 0.0033 - 14ms/epoch - 1ms/step\n",
      "Epoch 51/100\n",
      "13/13 - 0s - loss: 0.0031 - mae: 0.0431 - mse: 0.0031 - 16ms/epoch - 1ms/step\n",
      "Epoch 52/100\n",
      "13/13 - 0s - loss: 0.0028 - mae: 0.0402 - mse: 0.0028 - 15ms/epoch - 1ms/step\n",
      "Epoch 53/100\n",
      "13/13 - 0s - loss: 0.0026 - mae: 0.0394 - mse: 0.0026 - 15ms/epoch - 1ms/step\n",
      "Epoch 54/100\n",
      "13/13 - 0s - loss: 0.0028 - mae: 0.0399 - mse: 0.0028 - 18ms/epoch - 1ms/step\n",
      "Epoch 55/100\n",
      "13/13 - 0s - loss: 0.0030 - mae: 0.0422 - mse: 0.0030 - 15ms/epoch - 1ms/step\n",
      "Epoch 56/100\n",
      "13/13 - 0s - loss: 0.0027 - mae: 0.0397 - mse: 0.0027 - 14ms/epoch - 1ms/step\n",
      "Epoch 57/100\n",
      "13/13 - 0s - loss: 0.0027 - mae: 0.0396 - mse: 0.0027 - 15ms/epoch - 1ms/step\n",
      "Epoch 58/100\n",
      "13/13 - 0s - loss: 0.0028 - mae: 0.0391 - mse: 0.0028 - 16ms/epoch - 1ms/step\n",
      "Epoch 59/100\n",
      "13/13 - 0s - loss: 0.0027 - mae: 0.0391 - mse: 0.0027 - 15ms/epoch - 1ms/step\n",
      "Epoch 60/100\n",
      "13/13 - 0s - loss: 0.0028 - mae: 0.0406 - mse: 0.0028 - 14ms/epoch - 1ms/step\n",
      "Epoch 61/100\n",
      "13/13 - 0s - loss: 0.0028 - mae: 0.0400 - mse: 0.0028 - 14ms/epoch - 1ms/step\n",
      "Epoch 62/100\n",
      "13/13 - 0s - loss: 0.0027 - mae: 0.0399 - mse: 0.0027 - 15ms/epoch - 1ms/step\n",
      "Epoch 63/100\n",
      "13/13 - 0s - loss: 0.0026 - mae: 0.0383 - mse: 0.0026 - 13ms/epoch - 1ms/step\n",
      "Epoch 64/100\n",
      "13/13 - 0s - loss: 0.0025 - mae: 0.0375 - mse: 0.0025 - 15ms/epoch - 1ms/step\n",
      "Epoch 65/100\n",
      "13/13 - 0s - loss: 0.0025 - mae: 0.0378 - mse: 0.0025 - 16ms/epoch - 1ms/step\n",
      "Epoch 66/100\n",
      "13/13 - 0s - loss: 0.0027 - mae: 0.0398 - mse: 0.0027 - 14ms/epoch - 1ms/step\n",
      "Epoch 67/100\n",
      "13/13 - 0s - loss: 0.0026 - mae: 0.0395 - mse: 0.0026 - 14ms/epoch - 1ms/step\n",
      "Epoch 68/100\n",
      "13/13 - 0s - loss: 0.0026 - mae: 0.0386 - mse: 0.0026 - 14ms/epoch - 1ms/step\n",
      "Epoch 69/100\n",
      "13/13 - 0s - loss: 0.0029 - mae: 0.0410 - mse: 0.0029 - 16ms/epoch - 1ms/step\n",
      "Epoch 70/100\n",
      "13/13 - 0s - loss: 0.0026 - mae: 0.0385 - mse: 0.0026 - 17ms/epoch - 1ms/step\n",
      "Epoch 71/100\n",
      "13/13 - 0s - loss: 0.0024 - mae: 0.0374 - mse: 0.0024 - 14ms/epoch - 1ms/step\n",
      "Epoch 72/100\n",
      "13/13 - 0s - loss: 0.0025 - mae: 0.0382 - mse: 0.0025 - 14ms/epoch - 1ms/step\n",
      "Epoch 73/100\n",
      "13/13 - 0s - loss: 0.0025 - mae: 0.0377 - mse: 0.0025 - 15ms/epoch - 1ms/step\n",
      "Epoch 74/100\n",
      "13/13 - 0s - loss: 0.0025 - mae: 0.0384 - mse: 0.0025 - 15ms/epoch - 1ms/step\n",
      "Epoch 75/100\n",
      "13/13 - 0s - loss: 0.0025 - mae: 0.0382 - mse: 0.0025 - 14ms/epoch - 1ms/step\n",
      "Epoch 76/100\n",
      "13/13 - 0s - loss: 0.0025 - mae: 0.0376 - mse: 0.0025 - 14ms/epoch - 1ms/step\n",
      "Epoch 77/100\n",
      "13/13 - 0s - loss: 0.0026 - mae: 0.0386 - mse: 0.0026 - 15ms/epoch - 1ms/step\n",
      "Epoch 78/100\n",
      "13/13 - 0s - loss: 0.0024 - mae: 0.0375 - mse: 0.0024 - 16ms/epoch - 1ms/step\n",
      "Epoch 79/100\n",
      "13/13 - 0s - loss: 0.0024 - mae: 0.0371 - mse: 0.0024 - 17ms/epoch - 1ms/step\n",
      "Epoch 80/100\n",
      "13/13 - 0s - loss: 0.0025 - mae: 0.0377 - mse: 0.0025 - 21ms/epoch - 2ms/step\n",
      "Epoch 81/100\n",
      "13/13 - 0s - loss: 0.0025 - mae: 0.0376 - mse: 0.0025 - 24ms/epoch - 2ms/step\n",
      "Epoch 82/100\n",
      "13/13 - 0s - loss: 0.0023 - mae: 0.0361 - mse: 0.0023 - 14ms/epoch - 1ms/step\n",
      "Epoch 83/100\n",
      "13/13 - 0s - loss: 0.0023 - mae: 0.0357 - mse: 0.0023 - 23ms/epoch - 2ms/step\n",
      "Epoch 84/100\n",
      "13/13 - 0s - loss: 0.0023 - mae: 0.0367 - mse: 0.0023 - 19ms/epoch - 1ms/step\n",
      "Epoch 85/100\n",
      "13/13 - 0s - loss: 0.0023 - mae: 0.0359 - mse: 0.0023 - 18ms/epoch - 1ms/step\n",
      "Epoch 86/100\n",
      "13/13 - 0s - loss: 0.0024 - mae: 0.0378 - mse: 0.0024 - 19ms/epoch - 1ms/step\n",
      "Epoch 87/100\n",
      "13/13 - 0s - loss: 0.0026 - mae: 0.0390 - mse: 0.0026 - 15ms/epoch - 1ms/step\n",
      "Epoch 88/100\n",
      "13/13 - 0s - loss: 0.0024 - mae: 0.0377 - mse: 0.0024 - 22ms/epoch - 2ms/step\n",
      "Epoch 89/100\n",
      "13/13 - 0s - loss: 0.0023 - mae: 0.0366 - mse: 0.0023 - 23ms/epoch - 2ms/step\n",
      "Epoch 90/100\n",
      "13/13 - 0s - loss: 0.0023 - mae: 0.0365 - mse: 0.0023 - 20ms/epoch - 2ms/step\n",
      "Epoch 91/100\n",
      "13/13 - 0s - loss: 0.0022 - mae: 0.0350 - mse: 0.0022 - 17ms/epoch - 1ms/step\n",
      "Epoch 92/100\n",
      "13/13 - 0s - loss: 0.0023 - mae: 0.0364 - mse: 0.0023 - 21ms/epoch - 2ms/step\n",
      "Epoch 93/100\n",
      "13/13 - 0s - loss: 0.0024 - mae: 0.0375 - mse: 0.0024 - 14ms/epoch - 1ms/step\n",
      "Epoch 94/100\n",
      "13/13 - 0s - loss: 0.0023 - mae: 0.0365 - mse: 0.0023 - 15ms/epoch - 1ms/step\n",
      "Epoch 95/100\n",
      "13/13 - 0s - loss: 0.0023 - mae: 0.0365 - mse: 0.0023 - 15ms/epoch - 1ms/step\n",
      "Epoch 96/100\n",
      "13/13 - 0s - loss: 0.0023 - mae: 0.0367 - mse: 0.0023 - 15ms/epoch - 1ms/step\n",
      "Epoch 97/100\n",
      "13/13 - 0s - loss: 0.0024 - mae: 0.0373 - mse: 0.0024 - 14ms/epoch - 1ms/step\n",
      "Epoch 98/100\n",
      "13/13 - 0s - loss: 0.0024 - mae: 0.0368 - mse: 0.0024 - 16ms/epoch - 1ms/step\n",
      "Epoch 99/100\n",
      "13/13 - 0s - loss: 0.0023 - mae: 0.0363 - mse: 0.0023 - 16ms/epoch - 1ms/step\n",
      "Epoch 100/100\n",
      "13/13 - 0s - loss: 0.0024 - mae: 0.0372 - mse: 0.0024 - 14ms/epoch - 1ms/step\n"
     ]
    },
    {
     "data": {
      "text/html": [
       "<style>#sk-container-id-4 {color: black;background-color: white;}#sk-container-id-4 pre{padding: 0;}#sk-container-id-4 div.sk-toggleable {background-color: white;}#sk-container-id-4 label.sk-toggleable__label {cursor: pointer;display: block;width: 100%;margin-bottom: 0;padding: 0.3em;box-sizing: border-box;text-align: center;}#sk-container-id-4 label.sk-toggleable__label-arrow:before {content: \"▸\";float: left;margin-right: 0.25em;color: #696969;}#sk-container-id-4 label.sk-toggleable__label-arrow:hover:before {color: black;}#sk-container-id-4 div.sk-estimator:hover label.sk-toggleable__label-arrow:before {color: black;}#sk-container-id-4 div.sk-toggleable__content {max-height: 0;max-width: 0;overflow: hidden;text-align: left;background-color: #f0f8ff;}#sk-container-id-4 div.sk-toggleable__content pre {margin: 0.2em;color: black;border-radius: 0.25em;background-color: #f0f8ff;}#sk-container-id-4 input.sk-toggleable__control:checked~div.sk-toggleable__content {max-height: 200px;max-width: 100%;overflow: auto;}#sk-container-id-4 input.sk-toggleable__control:checked~label.sk-toggleable__label-arrow:before {content: \"▾\";}#sk-container-id-4 div.sk-estimator input.sk-toggleable__control:checked~label.sk-toggleable__label {background-color: #d4ebff;}#sk-container-id-4 div.sk-label input.sk-toggleable__control:checked~label.sk-toggleable__label {background-color: #d4ebff;}#sk-container-id-4 input.sk-hidden--visually {border: 0;clip: rect(1px 1px 1px 1px);clip: rect(1px, 1px, 1px, 1px);height: 1px;margin: -1px;overflow: hidden;padding: 0;position: absolute;width: 1px;}#sk-container-id-4 div.sk-estimator {font-family: monospace;background-color: #f0f8ff;border: 1px dotted black;border-radius: 0.25em;box-sizing: border-box;margin-bottom: 0.5em;}#sk-container-id-4 div.sk-estimator:hover {background-color: #d4ebff;}#sk-container-id-4 div.sk-parallel-item::after {content: \"\";width: 100%;border-bottom: 1px solid gray;flex-grow: 1;}#sk-container-id-4 div.sk-label:hover label.sk-toggleable__label {background-color: #d4ebff;}#sk-container-id-4 div.sk-serial::before {content: \"\";position: absolute;border-left: 1px solid gray;box-sizing: border-box;top: 0;bottom: 0;left: 50%;z-index: 0;}#sk-container-id-4 div.sk-serial {display: flex;flex-direction: column;align-items: center;background-color: white;padding-right: 0.2em;padding-left: 0.2em;position: relative;}#sk-container-id-4 div.sk-item {position: relative;z-index: 1;}#sk-container-id-4 div.sk-parallel {display: flex;align-items: stretch;justify-content: center;background-color: white;position: relative;}#sk-container-id-4 div.sk-item::before, #sk-container-id-4 div.sk-parallel-item::before {content: \"\";position: absolute;border-left: 1px solid gray;box-sizing: border-box;top: 0;bottom: 0;left: 50%;z-index: -1;}#sk-container-id-4 div.sk-parallel-item {display: flex;flex-direction: column;z-index: 1;position: relative;background-color: white;}#sk-container-id-4 div.sk-parallel-item:first-child::after {align-self: flex-end;width: 50%;}#sk-container-id-4 div.sk-parallel-item:last-child::after {align-self: flex-start;width: 50%;}#sk-container-id-4 div.sk-parallel-item:only-child::after {width: 0;}#sk-container-id-4 div.sk-dashed-wrapped {border: 1px dashed gray;margin: 0 0.4em 0.5em 0.4em;box-sizing: border-box;padding-bottom: 0.4em;background-color: white;}#sk-container-id-4 div.sk-label label {font-family: monospace;font-weight: bold;display: inline-block;line-height: 1.2em;}#sk-container-id-4 div.sk-label-container {text-align: center;}#sk-container-id-4 div.sk-container {/* jupyter's `normalize.less` sets `[hidden] { display: none; }` but bootstrap.min.css set `[hidden] { display: none !important; }` so we also need the `!important` here to be able to override the default hidden behavior on the sphinx rendered scikit-learn.org. See: https://github.com/scikit-learn/scikit-learn/issues/21755 */display: inline-block !important;position: relative;}#sk-container-id-4 div.sk-text-repr-fallback {display: none;}</style><div id=\"sk-container-id-4\" class=\"sk-top-container\"><div class=\"sk-text-repr-fallback\"><pre>Pipeline(steps=[(&#x27;scaler&#x27;, StandardScaler()),\n",
       "                (&#x27;nn&#x27;,\n",
       "                 KerasRegressor(batch_size=32, build_fn=functools.partial(&lt;function build_nn_model at 0x7fd61d1949d0&gt;, n_features=8), epochs=100, verbose=2))])</pre><b>In a Jupyter environment, please rerun this cell to show the HTML representation or trust the notebook. <br />On GitHub, the HTML representation is unable to render, please try loading this page with nbviewer.org.</b></div><div class=\"sk-container\" hidden><div class=\"sk-item sk-dashed-wrapped\"><div class=\"sk-label-container\"><div class=\"sk-label sk-toggleable\"><input class=\"sk-toggleable__control sk-hidden--visually\" id=\"sk-estimator-id-8\" type=\"checkbox\" ><label for=\"sk-estimator-id-8\" class=\"sk-toggleable__label sk-toggleable__label-arrow\">Pipeline</label><div class=\"sk-toggleable__content\"><pre>Pipeline(steps=[(&#x27;scaler&#x27;, StandardScaler()),\n",
       "                (&#x27;nn&#x27;,\n",
       "                 KerasRegressor(batch_size=32, build_fn=functools.partial(&lt;function build_nn_model at 0x7fd61d1949d0&gt;, n_features=8), epochs=100, verbose=2))])</pre></div></div></div><div class=\"sk-serial\"><div class=\"sk-item\"><div class=\"sk-estimator sk-toggleable\"><input class=\"sk-toggleable__control sk-hidden--visually\" id=\"sk-estimator-id-9\" type=\"checkbox\" ><label for=\"sk-estimator-id-9\" class=\"sk-toggleable__label sk-toggleable__label-arrow\">StandardScaler</label><div class=\"sk-toggleable__content\"><pre>StandardScaler()</pre></div></div></div><div class=\"sk-item\"><div class=\"sk-estimator sk-toggleable\"><input class=\"sk-toggleable__control sk-hidden--visually\" id=\"sk-estimator-id-10\" type=\"checkbox\" ><label for=\"sk-estimator-id-10\" class=\"sk-toggleable__label sk-toggleable__label-arrow\">KerasRegressor</label><div class=\"sk-toggleable__content\"><pre>KerasRegressor(\n",
       "\tmodel=None\n",
       "\tbuild_fn=functools.partial(&lt;function build_nn_model at 0x7fd61d1949d0&gt;, n_features=8)\n",
       "\twarm_start=False\n",
       "\trandom_state=None\n",
       "\toptimizer=rmsprop\n",
       "\tloss=None\n",
       "\tmetrics=None\n",
       "\tbatch_size=32\n",
       "\tvalidation_batch_size=None\n",
       "\tverbose=2\n",
       "\tcallbacks=None\n",
       "\tvalidation_split=0.0\n",
       "\tshuffle=True\n",
       "\trun_eagerly=False\n",
       "\tepochs=100\n",
       ")</pre></div></div></div></div></div></div></div>"
      ],
      "text/plain": [
       "Pipeline(steps=[('scaler', StandardScaler()),\n",
       "                ('nn',\n",
       "                 KerasRegressor(batch_size=32, build_fn=functools.partial(<function build_nn_model at 0x7fd61d1949d0>, n_features=8), epochs=100, verbose=2))])"
      ]
     },
     "execution_count": 34,
     "metadata": {},
     "output_type": "execute_result"
    }
   ],
   "source": [
    "pipeline = Pipeline([('scaler', StandardScaler()), ('nn', nn_model)])\n",
    "pipeline.fit(train_features, train_labels)"
   ]
  },
  {
   "cell_type": "code",
   "execution_count": 30,
   "metadata": {},
   "outputs": [
    {
     "name": "stdout",
     "output_type": "stream",
     "text": [
      "4/4 - 0s - 40ms/epoch - 10ms/step\n"
     ]
    }
   ],
   "source": [
    "predictions = pipeline.predict(test_features)\n",
    "r2 = r2_score(test_labels, predictions)"
   ]
  },
  {
   "cell_type": "code",
   "execution_count": 49,
   "metadata": {},
   "outputs": [
    {
     "data": {
      "text/plain": [
       "<AxesSubplot: >"
      ]
     },
     "execution_count": 49,
     "metadata": {},
     "output_type": "execute_result"
    },
    {
     "data": {
      "image/png": "[encoded data removed]",
      "text/plain": [
       "<Figure size 640x480 with 1 Axes>"
      ]
     },
     "metadata": {},
     "output_type": "display_data"
    }
   ],
   "source": [
    "pd.DataFrame(pipeline._final_estimator.model_.history.history).plot()"
   ]
  }
 ],
 "metadata": {
  "kernelspec": {
   "display_name": "Python 3.10.4 64-bit",
   "language": "python",
   "name": "python3"
  },
  "language_info": {
   "codemirror_mode": {
    "name": "ipython",
    "version": 3
   },
   "file_extension": ".py",
   "mimetype": "text/x-python",
   "name": "python",
   "nbconvert_exporter": "python",
   "pygments_lexer": "ipython3",
   "version": "3.10.4"
  },
  "orig_nbformat": 4,
  "vscode": {
   "interpreter": {
    "hash": "3ad933181bd8a04b432d3370b9dc3b0662ad032c4dfaa4e4f1596c548f763858"
   }
  }
 },
 "nbformat": 4,
 "nbformat_minor": 2
}
